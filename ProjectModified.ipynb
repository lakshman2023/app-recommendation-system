{
  "cells": [
    {
      "cell_type": "markdown",
      "metadata": {
        "id": "view-in-github",
        "colab_type": "text"
      },
      "source": [
        "<a href=\"https://colab.research.google.com/github/lakshman2023/app-recommendation-system/blob/main/ProjectModified.ipynb\" target=\"_parent\"><img src=\"https://colab.research.google.com/assets/colab-badge.svg\" alt=\"Open In Colab\"/></a>"
      ]
    },
    {
      "source": [
        "\n",
        "# IMPORTANT: RUN THIS CELL IN ORDER TO IMPORT YOUR KAGGLE DATA SOURCES\n",
        "# TO THE CORRECT LOCATION (/kaggle/input) IN YOUR NOTEBOOK,\n",
        "# THEN FEEL FREE TO DELETE THIS CELL.\n",
        "# NOTE: THIS NOTEBOOK ENVIRONMENT DIFFERS FROM KAGGLE'S PYTHON\n",
        "# ENVIRONMENT SO THERE MAY BE MISSING LIBRARIES USED BY YOUR\n",
        "# NOTEBOOK.\n",
        "\n",
        "import os\n",
        "import sys\n",
        "from tempfile import NamedTemporaryFile\n",
        "from urllib.request import urlopen\n",
        "from urllib.parse import unquote, urlparse\n",
        "from urllib.error import HTTPError\n",
        "from zipfile import ZipFile\n",
        "import tarfile\n",
        "import shutil\n",
        "\n",
        "CHUNK_SIZE = 40960\n",
        "DATA_SOURCE_MAPPING = 'google-playstore-apps:https%3A%2F%2Fstorage.googleapis.com%2Fkaggle-data-sets%2F157336%2F360692%2Fbundle%2Farchive.zip%3FX-Goog-Algorithm%3DGOOG4-RSA-SHA256%26X-Goog-Credential%3Dgcp-kaggle-com%2540kaggle-161607.iam.gserviceaccount.com%252F20240923%252Fauto%252Fstorage%252Fgoog4_request%26X-Goog-Date%3D20240923T173351Z%26X-Goog-Expires%3D259200%26X-Goog-SignedHeaders%3Dhost%26X-Goog-Signature%3D59f797c8d9e24aa0071e5661bd9cc6edf79ff0ade65b434bbaa27a9a5d86cfafde73bfa9f0a3b646bb6a701ce2d2173553aa7c81a97b8ebc58d069022245cbe7a43c7c9c90d409bb5f7d3abcf10d124e38dbe33dbe8653b3b9a39619c0440128ea91eb0587dec6b0d5571aee3b1d2347f598cbef4c8a6b51598fc9c1deb17b317dc59b027fce83c5f9d87c4e8c763e537d5259d5bd1c5975621d74a2173bd06bcb537d317a0edd834fc54aa5022d06902257f39f0c2eb0931a68d4ddc92f3d31324ca1fbe6ac8361420268079b46849cfbf6840ce5e8aa50b41bfa17c2dc2813c3f09a942cee5ae7ae5d11d6ecc59d064f5aa4850273e2805eb7b60183ed665b'\n",
        "\n",
        "KAGGLE_INPUT_PATH='/kaggle/input'\n",
        "KAGGLE_WORKING_PATH='/kaggle/working'\n",
        "KAGGLE_SYMLINK='kaggle'\n",
        "\n",
        "!umount /kaggle/input/ 2> /dev/null\n",
        "shutil.rmtree('/kaggle/input', ignore_errors=True)\n",
        "os.makedirs(KAGGLE_INPUT_PATH, 0o777, exist_ok=True)\n",
        "os.makedirs(KAGGLE_WORKING_PATH, 0o777, exist_ok=True)\n",
        "\n",
        "try:\n",
        "  os.symlink(KAGGLE_INPUT_PATH, os.path.join(\"..\", 'input'), target_is_directory=True)\n",
        "except FileExistsError:\n",
        "  pass\n",
        "try:\n",
        "  os.symlink(KAGGLE_WORKING_PATH, os.path.join(\"..\", 'working'), target_is_directory=True)\n",
        "except FileExistsError:\n",
        "  pass\n",
        "\n",
        "for data_source_mapping in DATA_SOURCE_MAPPING.split(','):\n",
        "    directory, download_url_encoded = data_source_mapping.split(':')\n",
        "    download_url = unquote(download_url_encoded)\n",
        "    filename = urlparse(download_url).path\n",
        "    destination_path = os.path.join(KAGGLE_INPUT_PATH, directory)\n",
        "    try:\n",
        "        with urlopen(download_url) as fileres, NamedTemporaryFile() as tfile:\n",
        "            total_length = fileres.headers['content-length']\n",
        "            print(f'Downloading {directory}, {total_length} bytes compressed')\n",
        "            dl = 0\n",
        "            data = fileres.read(CHUNK_SIZE)\n",
        "            while len(data) > 0:\n",
        "                dl += len(data)\n",
        "                tfile.write(data)\n",
        "                done = int(50 * dl / int(total_length))\n",
        "                sys.stdout.write(f\"\\r[{'=' * done}{' ' * (50-done)}] {dl} bytes downloaded\")\n",
        "                sys.stdout.flush()\n",
        "                data = fileres.read(CHUNK_SIZE)\n",
        "            if filename.endswith('.zip'):\n",
        "              with ZipFile(tfile) as zfile:\n",
        "                zfile.extractall(destination_path)\n",
        "            else:\n",
        "              with tarfile.open(tfile.name) as tarfile:\n",
        "                tarfile.extractall(destination_path)\n",
        "            print(f'\\nDownloaded and uncompressed: {directory}')\n",
        "    except HTTPError as e:\n",
        "        print(f'Failed to load (likely expired) {download_url} to path {destination_path}')\n",
        "        continue\n",
        "    except OSError as e:\n",
        "        print(f'Failed to load {download_url} to path {destination_path}')\n",
        "        continue\n",
        "\n",
        "print('Data source import complete.')\n"
      ],
      "metadata": {
        "id": "ZQgzpe5h-R_9"
      },
      "cell_type": "code",
      "outputs": [],
      "execution_count": null
    },
    {
      "metadata": {
        "_uuid": "8f2839f25d086af736a60e9eeb907d3b93b6e0e5",
        "_cell_guid": "b1076dfc-b9ad-4769-8c92-a6c4dae69d19",
        "trusted": true,
        "id": "_GuhShm--SAA"
      },
      "cell_type": "code",
      "source": [
        "# This Python 3 environment comes with many helpful analytics libraries installed\n",
        "# It is defined by the kaggle/python Docker image: https://github.com/kaggle/docker-python\n",
        "# For example, here's several helpful packages to load\n",
        "\n",
        "import numpy as np # linear algebra\n",
        "import pandas as pd # data processing, CSV file I/O (e.g. pd.read_csv)\n",
        "\n",
        "# Input data files are available in the read-only \"../input/\" directory\n",
        "# For example, running this (by clicking run or pressing Shift+Enter) will list all files under the input directory\n",
        "\n",
        "import os\n",
        "for dirname, _, filenames in os.walk('/kaggle/input'):\n",
        "    for filename in filenames:\n",
        "        print(os.path.join(dirname, filename))\n",
        "\n",
        "# You can write up to 5GB to the current directory (/kaggle/working/) that gets preserved as output when you create a version using \"Save & Run All\"\n",
        "# You can also write temporary files to /kaggle/temp/, but they won't be saved outside of the current session"
      ],
      "execution_count": null,
      "outputs": []
    },
    {
      "metadata": {
        "_uuid": "d629ff2d2480ee46fbb7e2d37f6b5fab8052498a",
        "_cell_guid": "79c7e3d0-c299-4dcb-8224-4455121ee9b0",
        "trusted": true,
        "id": "qpvRezfB-SAA"
      },
      "cell_type": "code",
      "source": [
        "!pip install Faker"
      ],
      "execution_count": null,
      "outputs": []
    },
    {
      "metadata": {
        "trusted": true,
        "id": "a8xiFNqg-SAB"
      },
      "cell_type": "code",
      "source": [
        "from faker import Faker"
      ],
      "execution_count": null,
      "outputs": []
    },
    {
      "metadata": {
        "trusted": true,
        "id": "9QvI2pTf-SAB"
      },
      "cell_type": "code",
      "source": [
        "#fake dataset generation\n",
        "fd = Faker()"
      ],
      "execution_count": null,
      "outputs": []
    },
    {
      "metadata": {
        "trusted": true,
        "id": "_b8CjXf9-SAB"
      },
      "cell_type": "code",
      "source": [
        "def create_names(n):\n",
        "    name = []\n",
        "    for _ in range(0,n):\n",
        "        name.append(fd.name())\n",
        "    return name"
      ],
      "execution_count": null,
      "outputs": []
    },
    {
      "metadata": {
        "trusted": true,
        "id": "SQIwdP4B-SAC"
      },
      "cell_type": "code",
      "source": [
        "names = create_names(100000)\n",
        "names[:10]"
      ],
      "execution_count": null,
      "outputs": []
    },
    {
      "metadata": {
        "trusted": true,
        "id": "gCqNRaE1-SAC"
      },
      "cell_type": "code",
      "source": [
        "def create_country(n):\n",
        "    country = []\n",
        "    for _ in range(0,n):\n",
        "        country.append(fd.country())\n",
        "    return country"
      ],
      "execution_count": null,
      "outputs": []
    },
    {
      "metadata": {
        "trusted": true,
        "id": "87-SJXwa-SAD"
      },
      "cell_type": "code",
      "source": [
        "country = create_country(100000)"
      ],
      "execution_count": null,
      "outputs": []
    },
    {
      "metadata": {
        "trusted": true,
        "id": "wZmsAxDa-SAD"
      },
      "cell_type": "code",
      "source": [
        "country[:10]"
      ],
      "execution_count": null,
      "outputs": []
    },
    {
      "metadata": {
        "trusted": true,
        "id": "IAOOURNn-SAD"
      },
      "cell_type": "code",
      "source": [
        "#age = np.random.randint(18, 75, size = 100000, dtype = 'int')\n",
        "ages1 = [int(item) for item in np.random.normal(47,5,50000)]\n",
        "ages2 = [int(item) for item in np.random.normal(20,5,25000)]\n",
        "ages3 = [int(item) for item in np.random.normal(65,5,25000)]\n",
        "print(ages1[:11])\n",
        "print(ages2[:11])\n",
        "print(ages3[:11])\n",
        "age = np.concatenate((ages1,ages2,ages3),axis=0)\n",
        "age[:10]"
      ],
      "execution_count": null,
      "outputs": []
    },
    {
      "metadata": {
        "trusted": true,
        "id": "l2urceYz-SAE"
      },
      "cell_type": "code",
      "source": [
        "#0->male,1->female\n",
        "gender = np.random.randint(0,2,size=100000,dtype = 'int')\n",
        "gender[:10]"
      ],
      "execution_count": null,
      "outputs": []
    },
    {
      "metadata": {
        "trusted": true,
        "id": "Zt7Vo_9--SAE"
      },
      "cell_type": "code",
      "source": [
        "df1= pd.read_csv('../input/google-playstore-apps/Google-Playstore-Full.csv',nrows=100000,low_memory=False)\n",
        "df1.shape"
      ],
      "execution_count": null,
      "outputs": []
    },
    {
      "metadata": {
        "trusted": true,
        "id": "aF6lcMOp-SAE"
      },
      "cell_type": "code",
      "source": [
        "df = pd.DataFrame(list(zip(names,gender,age,country)),columns = ['Name','Gender','Age','Country'])\n",
        "df.head()"
      ],
      "execution_count": null,
      "outputs": []
    },
    {
      "metadata": {
        "trusted": true,
        "id": "B9q0rTK9-SAE"
      },
      "cell_type": "code",
      "source": [
        "df['most_used_apps'] = pd.Series(df1['App Name'])\n",
        "df['category'] = pd.Series(df1['Category'])\n",
        "df.head()"
      ],
      "execution_count": null,
      "outputs": []
    },
    {
      "metadata": {
        "trusted": true,
        "id": "OCHBArQH-SAE"
      },
      "cell_type": "code",
      "source": [
        "apps = df.category.unique()\n",
        "nations = df.Country.unique()\n",
        "df.head()"
      ],
      "execution_count": null,
      "outputs": []
    },
    {
      "metadata": {
        "trusted": true,
        "id": "FHkdOa5E-SAF"
      },
      "cell_type": "code",
      "source": [
        "def shuffle(df, n=1, axis=0):\n",
        "    df = df.copy()\n",
        "    for _ in range(n):\n",
        "        df.apply(np.random.shuffle, axis=axis)\n",
        "    return df"
      ],
      "execution_count": null,
      "outputs": []
    },
    {
      "metadata": {
        "trusted": true,
        "id": "oPXvvXl1-SAF"
      },
      "cell_type": "code",
      "source": [
        "df['parallelly_used_apps'] = np.random.permutation(pd.Series(df1['App Name']).values)\n",
        "df.head(10)"
      ],
      "execution_count": null,
      "outputs": []
    },
    {
      "metadata": {
        "trusted": true,
        "collapsed": true,
        "id": "uIX6g7Fw-SAF"
      },
      "cell_type": "code",
      "source": [
        "#now our dataset of size 100k is ready!\n",
        "#we have to convert country and category of apps to numbers to use clustering\n",
        "apps = list(apps)\n",
        "nations = list(nations)\n",
        "for i in range(0,100000):\n",
        "    df['category'][i] = apps.index(df['category'][i])\n",
        "    df['Country'][i] = nations.index(df['Country'][i])"
      ],
      "execution_count": null,
      "outputs": []
    },
    {
      "metadata": {
        "trusted": true,
        "id": "NR5Hm2iX-SAF"
      },
      "cell_type": "code",
      "source": [
        "df.head(10)"
      ],
      "execution_count": null,
      "outputs": []
    },
    {
      "metadata": {
        "trusted": true,
        "id": "wofkSVUV-SAG"
      },
      "cell_type": "code",
      "source": [
        "from sklearn.cluster import MiniBatchKMeans\n",
        "X = df.iloc[:, [1,2,3,5]].values\n",
        "X"
      ],
      "execution_count": null,
      "outputs": []
    },
    {
      "metadata": {
        "trusted": true,
        "id": "qIWPYyYR-SAG"
      },
      "cell_type": "code",
      "source": [
        "sse = {}\n",
        "for k in range(1,56):\n",
        "    kmeans = KMeans(n_clusters=k, init='k-means++', max_iter=100).fit(X)\n",
        "    sse[k] = kmeans.inertia_"
      ],
      "execution_count": null,
      "outputs": []
    },
    {
      "metadata": {
        "trusted": true,
        "id": "d18SOPjO-SAG"
      },
      "cell_type": "code",
      "source": [
        "import matplotlib.pyplot as plt\n",
        "plt.plot(list(sse.keys()), list(sse.values()))\n",
        "plt.xlabel(\"Number of cluster\")\n",
        "plt.ylabel(\"SSE\")\n",
        "plt.savefig('elbow_method.png')"
      ],
      "execution_count": null,
      "outputs": []
    },
    {
      "metadata": {
        "trusted": true,
        "collapsed": true,
        "id": "6K4Oq-Fx-SAG"
      },
      "cell_type": "code",
      "source": [
        "from yellowbrick.cluster import KElbowVisualizer"
      ],
      "execution_count": null,
      "outputs": []
    },
    {
      "metadata": {
        "trusted": true,
        "id": "tnJmuaFO-SAG"
      },
      "cell_type": "code",
      "source": [
        "model = KMeans()\n",
        "visualizer = KElbowVisualizer(\n",
        "    model, k=(2,10), metric='calinski_harabasz', timings=False\n",
        ")"
      ],
      "execution_count": null,
      "outputs": []
    },
    {
      "metadata": {
        "trusted": true,
        "id": "XdZ77T8z-SAG"
      },
      "cell_type": "code",
      "source": [
        "visualizer.fit(X)"
      ],
      "execution_count": null,
      "outputs": []
    },
    {
      "metadata": {
        "trusted": true,
        "id": "ky5ChFbB-SAH"
      },
      "cell_type": "code",
      "source": [
        "true_k = 3\n",
        "model = MiniBatchKMeans(n_clusters=true_k, init='k-means++', max_iter=500, n_init=15)\n",
        "model.fit(X)"
      ],
      "execution_count": null,
      "outputs": []
    },
    {
      "metadata": {
        "trusted": true,
        "id": "Q9Xe9IVU-SAH"
      },
      "cell_type": "code",
      "source": [
        "centroids = model.cluster_centers_\n",
        "print(centroids)"
      ],
      "execution_count": null,
      "outputs": []
    },
    {
      "metadata": {
        "trusted": true,
        "id": "r2XGdUht-SAH"
      },
      "cell_type": "code",
      "source": [
        "!pip install efficient-apriori"
      ],
      "execution_count": null,
      "outputs": []
    },
    {
      "metadata": {
        "trusted": true,
        "id": "Lvutu4wO-SAH"
      },
      "cell_type": "code",
      "source": [
        "from efficient_apriori import apriori\n",
        "def get_recommendations(y):\n",
        "    dist = []\n",
        "    for item in centroids:\n",
        "        dist.append(np.sqrt(np.power(y[0]-item[0],2) + np.power(y[1] - item[1],2) + np.power(y[2] - item[2],2) + np.power(y[3]-item[3],2)))\n",
        "    cluster = list(dist).index(np.amin(dist))\n",
        "    cluster_points_indices = [i for i, x in enumerate(list(model.labels_)) if x == cluster]\n",
        "    cluster_points = [[df['Age'][i],nations[df['Country'][i]],apps[df['category'][i]]] for i in cluster_points_indices]\n",
        "    itemsets, rules = apriori(cluster_points, min_support=0.1,min_confidence=1)\n",
        "    idx = apps.index(list(itemsets[1].keys())[0][0])\n",
        "    recommendations = []\n",
        "    for i in range(100000):\n",
        "        if df['category'][i] == idx:\n",
        "            recommendations.append(df['most_used_apps'][i])\n",
        "    print(recommendations[:10])"
      ],
      "execution_count": null,
      "outputs": []
    },
    {
      "metadata": {
        "trusted": true,
        "id": "QoiLU3O0-SAH"
      },
      "cell_type": "code",
      "source": [
        "get_recommendations([1,40,0,0])#taking input vector of gender,age,country,category of most_used_app"
      ],
      "execution_count": null,
      "outputs": []
    }
  ],
  "metadata": {
    "kernelspec": {
      "language": "python",
      "display_name": "Python 3",
      "name": "python3"
    },
    "language_info": {
      "pygments_lexer": "ipython3",
      "nbconvert_exporter": "python",
      "version": "3.6.4",
      "file_extension": ".py",
      "codemirror_mode": {
        "name": "ipython",
        "version": 3
      },
      "name": "python",
      "mimetype": "text/x-python"
    },
    "colab": {
      "name": "ProjectModified",
      "provenance": [],
      "include_colab_link": true
    }
  },
  "nbformat": 4,
  "nbformat_minor": 0
}